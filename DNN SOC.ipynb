{
 "cells": [
  {
   "cell_type": "code",
   "execution_count": 1,
   "metadata": {},
   "outputs": [],
   "source": [
    "from keras.layers import Dense, Conv1D, Flatten, MaxPooling1D,BatchNormalization,Dropout\n",
    "from keras.models import Sequential\n",
    "from sklearn.metrics import mean_squared_error\n",
    "import matplotlib.pyplot as plt\n",
    "import pandas as pd\n",
    "import numpy as np\n",
    "data=pd.read_csv(r'C:\\Users\\pc\\Desktop\\final paper\\Soil_Ferrtlity.csv', encoding='cp1252')"
   ]
  },
  {
   "cell_type": "code",
   "execution_count": 2,
   "metadata": {},
   "outputs": [],
   "source": [
    "X = data.drop(['Fertility_Class', 'OC'],axis=1)\n",
    "y = data['OC'].values"
   ]
  },
  {
   "cell_type": "code",
   "execution_count": 3,
   "metadata": {},
   "outputs": [],
   "source": [
    "from sklearn.model_selection import train_test_split\n",
    "X_train, X_test, y_train, y_test = train_test_split(X, y, test_size=0.2, random_state=101)"
   ]
  },
  {
   "cell_type": "code",
   "execution_count": 4,
   "metadata": {},
   "outputs": [
    {
     "name": "stderr",
     "output_type": "stream",
     "text": [
      "<ipython-input-4-f66fc4a953da>:3: DeprecationWarning: `np.float` is a deprecated alias for the builtin `float`. To silence this warning, use `float` by itself. Doing this will not modify any behavior and is safe. If you specifically wanted the numpy scalar type, use `np.float64` here.\n",
      "Deprecated in NumPy 1.20; for more details and guidance: https://numpy.org/devdocs/release/1.20.0-notes.html#deprecations\n",
      "  X_train = s_scaler.fit_transform(X_train.astype(np.float))\n",
      "<ipython-input-4-f66fc4a953da>:4: DeprecationWarning: `np.float` is a deprecated alias for the builtin `float`. To silence this warning, use `float` by itself. Doing this will not modify any behavior and is safe. If you specifically wanted the numpy scalar type, use `np.float64` here.\n",
      "Deprecated in NumPy 1.20; for more details and guidance: https://numpy.org/devdocs/release/1.20.0-notes.html#deprecations\n",
      "  X_test = s_scaler.transform(X_test.astype(np.float))\n"
     ]
    }
   ],
   "source": [
    "from sklearn.preprocessing import StandardScaler\n",
    "s_scaler = StandardScaler()\n",
    "X_train = s_scaler.fit_transform(X_train.astype(np.float))\n",
    "X_test = s_scaler.transform(X_test.astype(np.float))"
   ]
  },
  {
   "cell_type": "code",
   "execution_count": 5,
   "metadata": {},
   "outputs": [],
   "source": [
    "# Creating a Neural Network Model\n",
    "from tensorflow.keras.models import Sequential\n",
    "from tensorflow.keras.layers import Dense, Activation\n",
    "from tensorflow.keras.optimizers import Adam"
   ]
  },
  {
   "cell_type": "code",
   "execution_count": 70,
   "metadata": {},
   "outputs": [
    {
     "name": "stdout",
     "output_type": "stream",
     "text": [
      "Model: \"sequential_11\"\n",
      "_________________________________________________________________\n",
      " Layer (type)                Output Shape              Param #   \n",
      "=================================================================\n",
      " dense_48 (Dense)            (None, 22)                330       \n",
      "                                                                 \n",
      " dense_49 (Dense)            (None, 22)                506       \n",
      "                                                                 \n",
      " dense_50 (Dense)            (None, 22)                506       \n",
      "                                                                 \n",
      " dense_51 (Dense)            (None, 22)                506       \n",
      "                                                                 \n",
      " dense_52 (Dense)            (None, 1)                 23        \n",
      "                                                                 \n",
      "=================================================================\n",
      "Total params: 1,871\n",
      "Trainable params: 1,871\n",
      "Non-trainable params: 0\n",
      "_________________________________________________________________\n"
     ]
    }
   ],
   "source": [
    "# having 14 neuron is based on the number of available features\n",
    "model = Sequential()\n",
    "model.add(Dense(22, input_dim=14, activation='relu'))\n",
    "model.add(Dense(22,activation='relu'))\n",
    "model.add(Dense(22,activation='relu'))\n",
    "model.add(Dense(22,activation='relu'))\n",
    "model.add(Dense(1))\n",
    "model.compile(optimizer='Adam',loss='mse')\n",
    "model.summary()"
   ]
  },
  {
   "cell_type": "code",
   "execution_count": 71,
   "metadata": {},
   "outputs": [
    {
     "name": "stdout",
     "output_type": "stream",
     "text": [
      "Epoch 1/60\n",
      "157/157 [==============================] - 4s 10ms/step - loss: 3.1056 - val_loss: 1.8552\n",
      "Epoch 2/60\n",
      "157/157 [==============================] - 1s 6ms/step - loss: 1.9341 - val_loss: 1.6538\n",
      "Epoch 3/60\n",
      "157/157 [==============================] - 1s 7ms/step - loss: 1.5717 - val_loss: 1.4970\n",
      "Epoch 4/60\n",
      "157/157 [==============================] - 1s 8ms/step - loss: 1.3708 - val_loss: 1.3700\n",
      "Epoch 5/60\n",
      "157/157 [==============================] - 1s 9ms/step - loss: 1.2076 - val_loss: 1.2470\n",
      "Epoch 6/60\n",
      "157/157 [==============================] - 1s 7ms/step - loss: 1.0790 - val_loss: 1.1325\n",
      "Epoch 7/60\n",
      "157/157 [==============================] - 1s 7ms/step - loss: 0.9776 - val_loss: 1.0672\n",
      "Epoch 8/60\n",
      "157/157 [==============================] - 1s 7ms/step - loss: 0.8826 - val_loss: 0.9255\n",
      "Epoch 9/60\n",
      "157/157 [==============================] - 1s 6ms/step - loss: 0.7942 - val_loss: 0.8415\n",
      "Epoch 10/60\n",
      "157/157 [==============================] - 1s 7ms/step - loss: 0.7178 - val_loss: 0.7568\n",
      "Epoch 11/60\n",
      "157/157 [==============================] - 1s 7ms/step - loss: 0.6643 - val_loss: 0.7369\n",
      "Epoch 12/60\n",
      "157/157 [==============================] - 1s 6ms/step - loss: 0.6054 - val_loss: 0.6585\n",
      "Epoch 13/60\n",
      "157/157 [==============================] - 1s 6ms/step - loss: 0.5656 - val_loss: 0.6320\n",
      "Epoch 14/60\n",
      "157/157 [==============================] - 1s 7ms/step - loss: 0.5439 - val_loss: 0.5876\n",
      "Epoch 15/60\n",
      "157/157 [==============================] - 1s 7ms/step - loss: 0.4835 - val_loss: 0.5276\n",
      "Epoch 16/60\n",
      "157/157 [==============================] - 1s 7ms/step - loss: 0.4400 - val_loss: 0.4633\n",
      "Epoch 17/60\n",
      "157/157 [==============================] - 1s 7ms/step - loss: 0.4015 - val_loss: 0.4435\n",
      "Epoch 18/60\n",
      "157/157 [==============================] - 1s 7ms/step - loss: 0.3902 - val_loss: 0.4118\n",
      "Epoch 19/60\n",
      "157/157 [==============================] - 1s 7ms/step - loss: 0.3660 - val_loss: 0.3984\n",
      "Epoch 20/60\n",
      "157/157 [==============================] - 1s 7ms/step - loss: 0.3355 - val_loss: 0.3519\n",
      "Epoch 21/60\n",
      "157/157 [==============================] - 1s 7ms/step - loss: 0.3180 - val_loss: 0.3419\n",
      "Epoch 22/60\n",
      "157/157 [==============================] - 1s 7ms/step - loss: 0.2982 - val_loss: 0.3215\n",
      "Epoch 23/60\n",
      "157/157 [==============================] - 1s 7ms/step - loss: 0.2989 - val_loss: 0.3219\n",
      "Epoch 24/60\n",
      "157/157 [==============================] - 1s 7ms/step - loss: 0.2683 - val_loss: 0.2896\n",
      "Epoch 25/60\n",
      "157/157 [==============================] - 1s 7ms/step - loss: 0.2587 - val_loss: 0.2817\n",
      "Epoch 26/60\n",
      "157/157 [==============================] - 1s 7ms/step - loss: 0.2402 - val_loss: 0.2518\n",
      "Epoch 27/60\n",
      "157/157 [==============================] - 1s 7ms/step - loss: 0.2300 - val_loss: 0.2463\n",
      "Epoch 28/60\n",
      "157/157 [==============================] - 1s 7ms/step - loss: 0.2130 - val_loss: 0.2289\n",
      "Epoch 29/60\n",
      "157/157 [==============================] - 1s 7ms/step - loss: 0.2028 - val_loss: 0.2237\n",
      "Epoch 30/60\n",
      "157/157 [==============================] - 1s 9ms/step - loss: 0.1934 - val_loss: 0.2114\n",
      "Epoch 31/60\n",
      "157/157 [==============================] - 1s 7ms/step - loss: 0.1825 - val_loss: 0.1979\n",
      "Epoch 32/60\n",
      "157/157 [==============================] - 1s 7ms/step - loss: 0.1789 - val_loss: 0.1946\n",
      "Epoch 33/60\n",
      "157/157 [==============================] - 1s 7ms/step - loss: 0.1700 - val_loss: 0.1863\n",
      "Epoch 34/60\n",
      "157/157 [==============================] - 1s 7ms/step - loss: 0.1636 - val_loss: 0.1783\n",
      "Epoch 35/60\n",
      "157/157 [==============================] - 1s 7ms/step - loss: 0.1622 - val_loss: 0.1703\n",
      "Epoch 36/60\n",
      "157/157 [==============================] - 1s 8ms/step - loss: 0.1586 - val_loss: 0.1799\n",
      "Epoch 37/60\n",
      "157/157 [==============================] - 1s 7ms/step - loss: 0.1558 - val_loss: 0.1682\n",
      "Epoch 38/60\n",
      "157/157 [==============================] - 1s 7ms/step - loss: 0.1464 - val_loss: 0.1759\n",
      "Epoch 39/60\n",
      "157/157 [==============================] - 1s 7ms/step - loss: 0.1373 - val_loss: 0.1463\n",
      "Epoch 40/60\n",
      "157/157 [==============================] - 1s 7ms/step - loss: 0.1275 - val_loss: 0.1573\n",
      "Epoch 41/60\n",
      "157/157 [==============================] - 1s 6ms/step - loss: 0.1348 - val_loss: 0.1340\n",
      "Epoch 42/60\n",
      "157/157 [==============================] - 1s 4ms/step - loss: 0.1334 - val_loss: 0.1468\n",
      "Epoch 43/60\n",
      "157/157 [==============================] - 1s 4ms/step - loss: 0.1223 - val_loss: 0.1291\n",
      "Epoch 44/60\n",
      "157/157 [==============================] - 1s 4ms/step - loss: 0.1172 - val_loss: 0.1451\n",
      "Epoch 45/60\n",
      "157/157 [==============================] - 1s 4ms/step - loss: 0.1196 - val_loss: 0.1424\n",
      "Epoch 46/60\n",
      "157/157 [==============================] - 1s 4ms/step - loss: 0.1556 - val_loss: 0.1330\n",
      "Epoch 47/60\n",
      "157/157 [==============================] - 1s 4ms/step - loss: 0.1214 - val_loss: 0.1397\n",
      "Epoch 48/60\n",
      "157/157 [==============================] - 1s 4ms/step - loss: 0.1094 - val_loss: 0.1130\n",
      "Epoch 49/60\n",
      "157/157 [==============================] - 1s 4ms/step - loss: 0.0979 - val_loss: 0.1028\n",
      "Epoch 50/60\n",
      "157/157 [==============================] - 1s 4ms/step - loss: 0.0908 - val_loss: 0.1028\n",
      "Epoch 51/60\n",
      "157/157 [==============================] - 1s 4ms/step - loss: 0.0872 - val_loss: 0.0955\n",
      "Epoch 52/60\n",
      "157/157 [==============================] - 1s 4ms/step - loss: 0.0819 - val_loss: 0.1014\n",
      "Epoch 53/60\n",
      "157/157 [==============================] - 1s 4ms/step - loss: 0.0811 - val_loss: 0.0894\n",
      "Epoch 54/60\n",
      "157/157 [==============================] - 1s 4ms/step - loss: 0.0772 - val_loss: 0.0875\n",
      "Epoch 55/60\n",
      "157/157 [==============================] - 1s 4ms/step - loss: 0.0785 - val_loss: 0.0930\n",
      "Epoch 56/60\n",
      "157/157 [==============================] - 1s 4ms/step - loss: 0.0704 - val_loss: 0.0840\n",
      "Epoch 57/60\n",
      "157/157 [==============================] - 1s 4ms/step - loss: 0.0718 - val_loss: 0.0961\n",
      "Epoch 58/60\n",
      "157/157 [==============================] - 1s 4ms/step - loss: 0.0733 - val_loss: 0.0902\n",
      "Epoch 59/60\n",
      "157/157 [==============================] - 1s 4ms/step - loss: 0.0700 - val_loss: 0.0866\n",
      "Epoch 60/60\n",
      "157/157 [==============================] - 1s 4ms/step - loss: 0.0683 - val_loss: 0.0815\n"
     ]
    },
    {
     "data": {
      "text/plain": [
       "<keras.callbacks.History at 0x1c251aa55e0>"
      ]
     },
     "execution_count": 71,
     "metadata": {},
     "output_type": "execute_result"
    }
   ],
   "source": [
    "model.fit(x=X_train,y=y_train,\n",
    "          validation_data=(X_test,y_test),\n",
    "          batch_size=64,epochs=60)"
   ]
  },
  {
   "cell_type": "code",
   "execution_count": 72,
   "metadata": {},
   "outputs": [
    {
     "data": {
      "text/plain": [
       "<AxesSubplot:>"
      ]
     },
     "execution_count": 72,
     "metadata": {},
     "output_type": "execute_result"
    },
    {
     "data": {
      "image/png": "[encoded data removed]",
      "text/plain": [
       "<Figure size 576x360 with 1 Axes>"
      ]
     },
     "metadata": {
      "needs_background": "light"
     },
     "output_type": "display_data"
    }
   ],
   "source": [
    "loss_df = pd.DataFrame(model.history.history)\n",
    "loss_df.plot(figsize=(8,5))"
   ]
  },
  {
   "cell_type": "code",
   "execution_count": 73,
   "metadata": {},
   "outputs": [
    {
     "name": "stdout",
     "output_type": "stream",
     "text": [
      "MAE: 0.19798158943952382\n",
      "MSE: 0.08149626082848284\n",
      "RMSE: 0.28547549952400963\n",
      "VarScore: 0.9587354250488314\n"
     ]
    }
   ],
   "source": [
    "y_pred = model.predict(X_test)\n",
    "from sklearn import metrics\n",
    "print('MAE:', metrics.mean_absolute_error(y_test, y_pred))  \n",
    "print('MSE:', metrics.mean_squared_error(y_test, y_pred))  \n",
    "print('RMSE:', np.sqrt(metrics.mean_squared_error(y_test, y_pred)))\n",
    "print('VarScore:',metrics.explained_variance_score(y_test,y_pred))"
   ]
  },
  {
   "cell_type": "code",
   "execution_count": 89,
   "metadata": {},
   "outputs": [
    {
     "data": {
      "text/plain": [
       "[<matplotlib.lines.Line2D at 0x1c2576d0730>]"
      ]
     },
     "execution_count": 89,
     "metadata": {},
     "output_type": "execute_result"
    },
    {
     "data": {
      "image/png": "[encoded data removed]",
      "text/plain": [
       "<Figure size 720x360 with 1 Axes>"
      ]
     },
     "metadata": {
      "needs_background": "light"
     },
     "output_type": "display_data"
    }
   ],
   "source": [
    "# Visualizing Our predictions\n",
    "y_pred = model.predict(X_test)\n",
    "fig = plt.figure(figsize=(10,5))\n",
    "plt.scatter(y_test,y_pred)\n",
    "# Perfect predictions\n",
    "plt.plot(y_test,y_test,'r')\n",
    "import numpy as np\n",
    "plt.plot(\"MAE:%r \" % metrics.mean_absolute_error(y_test, y_pred))\n",
    "plt.plot(\"MSE:%r \" % metrics.mean_squared_error(y_test, y_pred))  "
   ]
  },
  {
   "cell_type": "code",
   "execution_count": 75,
   "metadata": {},
   "outputs": [
    {
     "name": "stdout",
     "output_type": "stream",
     "text": [
      "RMS: 1.9426337943915464 \n",
      "MAE:0.19798158943952382 \n",
      "MSE:0.08149626082848284 \n"
     ]
    }
   ],
   "source": [
    "import numpy as np\n",
    "print(\"RMS: %r \" % np.sqrt(np.mean((y_pred - y_test) ** 2)))\n",
    "print(\"MAE:%r \" % metrics.mean_absolute_error(y_test, y_pred))\n",
    "print(\"MSE:%r \" % metrics.mean_squared_error(y_test, y_pred))  "
   ]
  },
  {
   "cell_type": "code",
   "execution_count": 78,
   "metadata": {},
   "outputs": [
    {
     "name": "stdout",
     "output_type": "stream",
     "text": [
      "Model: \"sequential_13\"\n",
      "_________________________________________________________________\n",
      " Layer (type)                Output Shape              Param #   \n",
      "=================================================================\n",
      " dense_56 (Dense)            (None, 14)                210       \n",
      "                                                                 \n",
      " dense_57 (Dense)            (None, 14)                210       \n",
      "                                                                 \n",
      " dense_58 (Dense)            (None, 1)                 15        \n",
      "                                                                 \n",
      "=================================================================\n",
      "Total params: 435\n",
      "Trainable params: 435\n",
      "Non-trainable params: 0\n",
      "_________________________________________________________________\n"
     ]
    }
   ],
   "source": [
    "ANN_model = Sequential()\n",
    "ANN_model.add(Dense(14, input_dim=14, activation='relu'))\n",
    "ANN_model.add(Dense(14,activation='relu'))\n",
    "ANN_model.add(Dense(1))\n",
    "ANN_model.compile(optimizer='Adam',loss='mse')\n",
    "ANN_model.summary()"
   ]
  },
  {
   "cell_type": "code",
   "execution_count": 79,
   "metadata": {},
   "outputs": [
    {
     "name": "stdout",
     "output_type": "stream",
     "text": [
      "Epoch 1/60\n",
      "157/157 [==============================] - 4s 9ms/step - loss: 4.4398 - val_loss: 2.2571\n",
      "Epoch 2/60\n",
      "157/157 [==============================] - 1s 5ms/step - loss: 2.2573 - val_loss: 1.9465\n",
      "Epoch 3/60\n",
      "157/157 [==============================] - 1s 6ms/step - loss: 1.9202 - val_loss: 1.7992\n",
      "Epoch 4/60\n",
      "157/157 [==============================] - 1s 7ms/step - loss: 1.7324 - val_loss: 1.7223\n",
      "Epoch 5/60\n",
      "157/157 [==============================] - 1s 7ms/step - loss: 1.6441 - val_loss: 1.6847\n",
      "Epoch 6/60\n",
      "157/157 [==============================] - 1s 7ms/step - loss: 1.5888 - val_loss: 1.6501\n",
      "Epoch 7/60\n",
      "157/157 [==============================] - 1s 5ms/step - loss: 1.5515 - val_loss: 1.6243\n",
      "Epoch 8/60\n",
      "157/157 [==============================] - 1s 6ms/step - loss: 1.5193 - val_loss: 1.5996\n",
      "Epoch 9/60\n",
      "157/157 [==============================] - 1s 6ms/step - loss: 1.4910 - val_loss: 1.5725\n",
      "Epoch 10/60\n",
      "157/157 [==============================] - 1s 6ms/step - loss: 1.4625 - val_loss: 1.5554\n",
      "Epoch 11/60\n",
      "157/157 [==============================] - 1s 5ms/step - loss: 1.4359 - val_loss: 1.5241\n",
      "Epoch 12/60\n",
      "157/157 [==============================] - 1s 5ms/step - loss: 1.4091 - val_loss: 1.4987\n",
      "Epoch 13/60\n",
      "157/157 [==============================] - 1s 6ms/step - loss: 1.3771 - val_loss: 1.4624\n",
      "Epoch 14/60\n",
      "157/157 [==============================] - 1s 6ms/step - loss: 1.3524 - val_loss: 1.4408\n",
      "Epoch 15/60\n",
      "157/157 [==============================] - 1s 5ms/step - loss: 1.3262 - val_loss: 1.4127\n",
      "Epoch 16/60\n",
      "157/157 [==============================] - 1s 5ms/step - loss: 1.3007 - val_loss: 1.3980\n",
      "Epoch 17/60\n",
      "157/157 [==============================] - 1s 6ms/step - loss: 1.2801 - val_loss: 1.3785\n",
      "Epoch 18/60\n",
      "157/157 [==============================] - 1s 6ms/step - loss: 1.2610 - val_loss: 1.3521\n",
      "Epoch 19/60\n",
      "157/157 [==============================] - 1s 6ms/step - loss: 1.2486 - val_loss: 1.3238\n",
      "Epoch 20/60\n",
      "157/157 [==============================] - 1s 6ms/step - loss: 1.2281 - val_loss: 1.3092\n",
      "Epoch 21/60\n",
      "157/157 [==============================] - 1s 6ms/step - loss: 1.2058 - val_loss: 1.2999\n",
      "Epoch 22/60\n",
      "157/157 [==============================] - 1s 6ms/step - loss: 1.1863 - val_loss: 1.2738\n",
      "Epoch 23/60\n",
      "157/157 [==============================] - 1s 6ms/step - loss: 1.1752 - val_loss: 1.2532\n",
      "Epoch 24/60\n",
      "157/157 [==============================] - 1s 6ms/step - loss: 1.1662 - val_loss: 1.2655\n",
      "Epoch 25/60\n",
      "157/157 [==============================] - 1s 6ms/step - loss: 1.1516 - val_loss: 1.2305\n",
      "Epoch 26/60\n",
      "157/157 [==============================] - 1s 6ms/step - loss: 1.1374 - val_loss: 1.2221\n",
      "Epoch 27/60\n",
      "157/157 [==============================] - 1s 6ms/step - loss: 1.1214 - val_loss: 1.2132\n",
      "Epoch 28/60\n",
      "157/157 [==============================] - 1s 6ms/step - loss: 1.1156 - val_loss: 1.1955\n",
      "Epoch 29/60\n",
      "157/157 [==============================] - 1s 6ms/step - loss: 1.1009 - val_loss: 1.1870\n",
      "Epoch 30/60\n",
      "157/157 [==============================] - 1s 6ms/step - loss: 1.0921 - val_loss: 1.1742\n",
      "Epoch 31/60\n",
      "157/157 [==============================] - 1s 6ms/step - loss: 1.0819 - val_loss: 1.1588\n",
      "Epoch 32/60\n",
      "157/157 [==============================] - 1s 6ms/step - loss: 1.0675 - val_loss: 1.1525\n",
      "Epoch 33/60\n",
      "157/157 [==============================] - 1s 6ms/step - loss: 1.0599 - val_loss: 1.1457\n",
      "Epoch 34/60\n",
      "157/157 [==============================] - 1s 6ms/step - loss: 1.0482 - val_loss: 1.1322\n",
      "Epoch 35/60\n",
      "157/157 [==============================] - 1s 5ms/step - loss: 1.0383 - val_loss: 1.1246\n",
      "Epoch 36/60\n",
      "157/157 [==============================] - 1s 6ms/step - loss: 1.0350 - val_loss: 1.1147\n",
      "Epoch 37/60\n",
      "157/157 [==============================] - 1s 6ms/step - loss: 1.0254 - val_loss: 1.1130\n",
      "Epoch 38/60\n",
      "157/157 [==============================] - 1s 6ms/step - loss: 1.0155 - val_loss: 1.1044\n",
      "Epoch 39/60\n",
      "157/157 [==============================] - 1s 6ms/step - loss: 1.0154 - val_loss: 1.1060\n",
      "Epoch 40/60\n",
      "157/157 [==============================] - 1s 6ms/step - loss: 1.0041 - val_loss: 1.0956\n",
      "Epoch 41/60\n",
      "157/157 [==============================] - 1s 6ms/step - loss: 1.0025 - val_loss: 1.0984\n",
      "Epoch 42/60\n",
      "157/157 [==============================] - 1s 7ms/step - loss: 0.9981 - val_loss: 1.0937\n",
      "Epoch 43/60\n",
      "157/157 [==============================] - 1s 6ms/step - loss: 0.9892 - val_loss: 1.0743\n",
      "Epoch 44/60\n",
      "157/157 [==============================] - 1s 6ms/step - loss: 0.9835 - val_loss: 1.0668\n",
      "Epoch 45/60\n",
      "157/157 [==============================] - 1s 6ms/step - loss: 0.9800 - val_loss: 1.0620\n",
      "Epoch 46/60\n",
      "157/157 [==============================] - 1s 6ms/step - loss: 0.9713 - val_loss: 1.0690\n",
      "Epoch 47/60\n",
      "157/157 [==============================] - 1s 6ms/step - loss: 0.9616 - val_loss: 1.0609\n",
      "Epoch 48/60\n",
      "157/157 [==============================] - 1s 6ms/step - loss: 0.9577 - val_loss: 1.0509\n",
      "Epoch 49/60\n",
      "157/157 [==============================] - 1s 6ms/step - loss: 0.9516 - val_loss: 1.0421\n",
      "Epoch 50/60\n",
      "157/157 [==============================] - 1s 6ms/step - loss: 0.9462 - val_loss: 1.0327\n",
      "Epoch 51/60\n",
      "157/157 [==============================] - 1s 7ms/step - loss: 0.9451 - val_loss: 1.0493\n",
      "Epoch 52/60\n",
      "157/157 [==============================] - 1s 6ms/step - loss: 0.9577 - val_loss: 1.0268\n",
      "Epoch 53/60\n",
      "157/157 [==============================] - 1s 6ms/step - loss: 0.9542 - val_loss: 1.0234\n",
      "Epoch 54/60\n",
      "157/157 [==============================] - 1s 6ms/step - loss: 0.9251 - val_loss: 1.0232\n",
      "Epoch 55/60\n",
      "157/157 [==============================] - 1s 6ms/step - loss: 0.9226 - val_loss: 1.0143\n",
      "Epoch 56/60\n",
      "157/157 [==============================] - 1s 6ms/step - loss: 0.9205 - val_loss: 1.0097\n",
      "Epoch 57/60\n",
      "157/157 [==============================] - 1s 6ms/step - loss: 0.9173 - val_loss: 1.0153\n",
      "Epoch 58/60\n",
      "157/157 [==============================] - 1s 6ms/step - loss: 0.9186 - val_loss: 1.0044\n",
      "Epoch 59/60\n",
      "157/157 [==============================] - 1s 6ms/step - loss: 0.9202 - val_loss: 1.0023\n",
      "Epoch 60/60\n",
      "157/157 [==============================] - 1s 6ms/step - loss: 0.9077 - val_loss: 1.0110\n"
     ]
    },
    {
     "data": {
      "text/plain": [
       "<keras.callbacks.History at 0x1c25033ef70>"
      ]
     },
     "execution_count": 79,
     "metadata": {},
     "output_type": "execute_result"
    }
   ],
   "source": [
    "ANN_model.fit(x=X_train,y=y_train,\n",
    "          validation_data=(X_test,y_test),\n",
    "          batch_size=64,epochs=60)"
   ]
  },
  {
   "cell_type": "code",
   "execution_count": 81,
   "metadata": {},
   "outputs": [
    {
     "data": {
      "text/plain": [
       "<AxesSubplot:>"
      ]
     },
     "execution_count": 81,
     "metadata": {},
     "output_type": "execute_result"
    },
    {
     "data": {
      "image/png": "[encoded data removed]",
      "text/plain": [
       "<Figure size 576x360 with 1 Axes>"
      ]
     },
     "metadata": {
      "needs_background": "light"
     },
     "output_type": "display_data"
    }
   ],
   "source": [
    "loss_df = pd.DataFrame(ANN_model.history.history)\n",
    "loss_df.plot(figsize=(8,5))"
   ]
  },
  {
   "cell_type": "code",
   "execution_count": 83,
   "metadata": {},
   "outputs": [
    {
     "name": "stdout",
     "output_type": "stream",
     "text": [
      "RMS: 1.7072696753190715 \n",
      "MAE:0.750899928664799 \n",
      "MSE:1.010978952042511 \n"
     ]
    }
   ],
   "source": [
    "import numpy as np\n",
    "y_pred = ANN_model.predict(X_test)\n",
    "print(\"RMS: %r \" % np.sqrt(np.mean((y_pred - y_test) ** 2)))\n",
    "print(\"MAE:%r \" % metrics.mean_absolute_error(y_test, y_pred))\n",
    "print(\"MSE:%r \" % metrics.mean_squared_error(y_test, y_pred))  "
   ]
  },
  {
   "cell_type": "code",
   "execution_count": 87,
   "metadata": {},
   "outputs": [
    {
     "data": {
      "text/plain": [
       "[<matplotlib.lines.Line2D at 0x1c252e6a3d0>]"
      ]
     },
     "execution_count": 87,
     "metadata": {},
     "output_type": "execute_result"
    },
    {
     "data": {
      "image/png": "[encoded data removed]",
      "text/plain": [
       "<Figure size 720x360 with 1 Axes>"
      ]
     },
     "metadata": {
      "needs_background": "light"
     },
     "output_type": "display_data"
    }
   ],
   "source": [
    "# Visualizing Our predictions\n",
    "fig = plt.figure(figsize=(10,5))\n",
    "plt.scatter(y_test,y_pred)\n",
    "# Perfect predictions\n",
    "plt.plot(y_test,y_test,'r')\n",
    "plt.plot(\"MAE:%r \" % metrics.mean_absolute_error(y_test, y_pred))\n",
    "plt.plot(\"MSE:%r \" % metrics.mean_squared_error(y_test, y_pred))"
   ]
  },
  {
   "cell_type": "code",
   "execution_count": null,
   "metadata": {},
   "outputs": [],
   "source": []
  }
 ],
 "metadata": {
  "kernelspec": {
   "display_name": "Python 3",
   "language": "python",
   "name": "python3"
  },
  "language_info": {
   "codemirror_mode": {
    "name": "ipython",
    "version": 3
   },
   "file_extension": ".py",
   "mimetype": "text/x-python",
   "name": "python",
   "nbconvert_exporter": "python",
   "pygments_lexer": "ipython3",
   "version": "3.8.5"
  }
 },
 "nbformat": 4,
 "nbformat_minor": 4
}
